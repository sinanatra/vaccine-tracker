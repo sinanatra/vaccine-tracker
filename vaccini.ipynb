{
 "cells": [
  {
   "cell_type": "code",
   "execution_count": 24,
   "metadata": {},
   "outputs": [
    {
     "name": "stdout",
     "output_type": "stream",
     "text": [
      "{'Veneto': {'value': '5.81'}, \"Valle d'Aosta / Vallée d'Aoste\": {'value': '6.2'}, 'Umbria': {'value': '5.46'}, 'Provincia Autonoma Trento': {'value': '6.41'}, 'Provincia Autonoma Bolzano / Bozen': {'value': '7.53'}, 'Toscana': {'value': '5.94'}, 'Sicilia': {'value': '5.2'}, 'Sardegna': {'value': '4.49'}, 'Puglia': {'value': '5.39'}, 'Piemonte': {'value': '7.58'}, 'Molise': {'value': '7.51'}, 'Marche': {'value': '6.99'}, 'Lombardia': {'value': '5.79'}, 'Liguria': {'value': '7.11'}, 'Lazio': {'value': '5.78'}, 'Friuli-Venezia Giulia': {'value': '6.9'}, 'Emilia-Romagna': {'value': '7.04'}, 'Campania': {'value': '4.57'}, 'Calabria': {'value': '5.34'}, 'Basilicata': {'value': '6.48'}, 'Abruzzo': {'value': '5.89'}}\n",
      "{'total': {'value': 13.204712283588155}}\n",
      "{'total': {'value': 5.900947250848675}}\n"
     ]
    }
   ],
   "source": [
    "import json\n",
    "import urllib.request\n",
    "import tweepy\n",
    "import time\n",
    "\n",
    "url = \"https://raw.githubusercontent.com/italia/covid19-opendata-vaccini/master/dati/somministrazioni-vaccini-summary-latest.json\"\n",
    "response = json.loads(urllib.request.urlopen(url).read().decode('utf-8'))\n",
    "\n",
    "data = {}\n",
    "total1 = {}\n",
    "total2 = {}\n",
    "\n",
    "with open('pop_regioni.json') as json_file:\n",
    "    data = json.load(json_file)\n",
    "    \n",
    "    sumPop = 0\n",
    "    sum1Dos = 0\n",
    "    sum2Dos = 0\n",
    "\n",
    "    for key in data.keys():\n",
    "\n",
    "        dosi = 0 \n",
    "        area = ''\n",
    "        pop = data[key]['popolazione']\n",
    "        sumPop += pop\n",
    "        \n",
    "        for i in range(len(response['data'])):\n",
    "            area = response['data'][i]['nome_area']\n",
    "            primadose = response['data'][i] ['prima_dose']\n",
    "            secondadose = response['data'][i]['seconda_dose']\n",
    "            \n",
    "            if key in area:\n",
    "                dosi += secondadose\n",
    "                sum1Dos += primadose\n",
    "                sum2Dos += secondadose\n",
    "\n",
    "        data[key] = {'value' : str(round(((dosi * 100) / pop), 2 ))}\n",
    "        \n",
    "total1['total'] = {'value' : sum1Dos * 100 / sumPop}\n",
    "total2['total'] = {'value' : sum2Dos * 100 / sumPop}\n",
    "\n",
    "print(data)\n",
    "print(total1)\n",
    "print(total2)"
   ]
  },
  {
   "cell_type": "code",
   "execution_count": 25,
   "metadata": {},
   "outputs": [],
   "source": [
    "empty = '░'\n",
    "fill = '█'\n",
    "customrange = 20"
   ]
  },
  {
   "cell_type": "code",
   "execution_count": null,
   "metadata": {},
   "outputs": [],
   "source": [
    "# Authenticate to Twitter\n",
    "auth = tweepy.OAuthHandler(os.environ['TWITTER_API_KEY'], os.environ['TWITTER_API_SECRET'])\n",
    "auth.set_access_token(os.environ['TWITTER_TOKEN'], os.environ['TWITTER_TOKEN_SECRET'])\n",
    "\n",
    "# Create API object\n",
    "api = tweepy.API(auth)"
   ]
  },
  {
   "cell_type": "code",
   "execution_count": 23,
   "metadata": {},
   "outputs": [
    {
     "name": "stdout",
     "output_type": "stream",
     "text": [
      "██░░░░░░░░░░░░░░░░░░ 13.2% prima dose\n",
      "███░░░░░░░░░░░░░░░░░ 5.9% seconda dose\n"
     ]
    }
   ],
   "source": [
    "value = round(total1['total']['value'],1)\n",
    "normalised = round(customrange/ value ) \n",
    "diff = round((customrange - normalised))\n",
    "\n",
    "status1 = fill * normalised + empty * diff + ' ' +  str(value) + '% prima dose'\n",
    "print(status1)\n",
    "\n",
    "value = round(total2['total']['value'],1)\n",
    "normalised = round(customrange/ value ) \n",
    "diff = round((customrange - normalised))\n",
    "\n",
    "status2 = fill * normalised + empty * diff + ' ' +  str(value) + '% seconda dose'\n",
    "print(status2)\n",
    "\n",
    "\n",
    "tweet = api.update_status(status1 + '\\n' + status2)\n",
    "time.sleep(2)"
   ]
  },
  {
   "cell_type": "code",
   "execution_count": 368,
   "metadata": {},
   "outputs": [
    {
     "name": "stdout",
     "output_type": "stream",
     "text": [
      "██░░░░░░░░ Veneto 5.8%\n",
      "██░░░░░░░░ Valle d'Aosta / Vallée d'Aoste 6.18%\n",
      "██░░░░░░░░ Umbria 5.37%\n",
      "██░░░░░░░░ Provincia Autonoma Trento 6.4%\n",
      "█░░░░░░░░░ Provincia Autonoma Bolzano / Bozen 7.5%\n",
      "██░░░░░░░░ Toscana 5.91%\n",
      "██░░░░░░░░ Sicilia 5.2%\n",
      "██░░░░░░░░ Sardegna 4.47%\n",
      "██░░░░░░░░ Puglia 5.33%\n",
      "█░░░░░░░░░ Piemonte 7.56%\n",
      "█░░░░░░░░░ Molise 7.49%\n",
      "█░░░░░░░░░ Marche 6.99%\n",
      "██░░░░░░░░ Lombardia 5.77%\n",
      "█░░░░░░░░░ Liguria 7.07%\n",
      "██░░░░░░░░ Lazio 5.77%\n",
      "█░░░░░░░░░ Friuli-Venezia Giulia 6.88%\n",
      "█░░░░░░░░░ Emilia-Romagna 6.91%\n",
      "██░░░░░░░░ Campania 4.57%\n",
      "██░░░░░░░░ Calabria 5.34%\n",
      "██░░░░░░░░ Basilicata 6.48%\n",
      "██░░░░░░░░ Abruzzo 5.89%\n"
     ]
    }
   ],
   "source": [
    "for region in data.keys():\n",
    "    value = float(data[region]['value'])\n",
    "    \n",
    "    normalised = round(customrange / value ) \n",
    "    diff = round((customrange - normalised))\n",
    "    \n",
    "    print(fill * normalised + empty * diff + ' ' + region + ' ' + str(value) + '%')"
   ]
  }
 ],
 "metadata": {
  "kernelspec": {
   "display_name": "Python 3",
   "language": "python",
   "name": "python3"
  },
  "language_info": {
   "codemirror_mode": {
    "name": "ipython",
    "version": 3
   },
   "file_extension": ".py",
   "mimetype": "text/x-python",
   "name": "python",
   "nbconvert_exporter": "python",
   "pygments_lexer": "ipython3",
   "version": "3.8.5"
  }
 },
 "nbformat": 4,
 "nbformat_minor": 4
}

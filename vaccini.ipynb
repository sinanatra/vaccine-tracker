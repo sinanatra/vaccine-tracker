{
 "cells": [
  {
   "cell_type": "code",
   "execution_count": 328,
   "metadata": {},
   "outputs": [
    {
     "name": "stdout",
     "output_type": "stream",
     "text": [
      "{'Veneto': {'value': '5.8'}, \"Valle d'Aosta / Vallée d'Aoste\": {'value': '6.18'}, 'Umbria': {'value': '5.37'}, 'Provincia Autonoma Trento': {'value': '6.4'}, 'Provincia Autonoma Bolzano / Bozen': {'value': '7.5'}, 'Toscana': {'value': '5.91'}, 'Sicilia': {'value': '5.2'}, 'Sardegna': {'value': '4.47'}, 'Puglia': {'value': '5.33'}, 'Piemonte': {'value': '7.56'}, 'Molise': {'value': '7.49'}, 'Marche': {'value': '6.99'}, 'Lombardia': {'value': '5.77'}, 'Liguria': {'value': '7.07'}, 'Lazio': {'value': '5.77'}, 'Friuli-Venezia Giulia': {'value': '6.88'}, 'Emilia-Romagna': {'value': '6.91'}, 'Campania': {'value': '4.57'}, 'Calabria': {'value': '5.34'}, 'Basilicata': {'value': '6.48'}, 'Abruzzo': {'value': '5.89'}}\n",
      "{'total': {'value': 5.874370728805846}}\n"
     ]
    }
   ],
   "source": [
    "url = \"https://raw.githubusercontent.com/italia/covid19-opendata-vaccini/master/dati/somministrazioni-vaccini-summary-latest.json\"\n",
    "response = json.loads(urllib.request.urlopen(url).read().decode('utf-8'))\n",
    "\n",
    "data = {}\n",
    "total = {}\n",
    "\n",
    "with open('pop_regioni.json') as json_file:\n",
    "    data = json.load(json_file)\n",
    "    \n",
    "    sumPop = 0\n",
    "    sumDos = 0\n",
    "    \n",
    "    for key in data.keys():\n",
    "\n",
    "        dosi = 0 \n",
    "        area = ''\n",
    "        pop = data[key]['popolazione']\n",
    "        sumPop += pop\n",
    "        \n",
    "        for i in range(len(response['data'])):\n",
    "            area = response['data'][i]['nome_area']\n",
    "            primadose = response['data'][i] ['prima_dose']\n",
    "            secondadose = response['data'][i]['seconda_dose']\n",
    "            \n",
    "            if key in area:\n",
    "                dosi += secondadose\n",
    "                sumDos += secondadose\n",
    "\n",
    "        data[key] = {'value' : str(round(((dosi * 100) / pop), 2 ))}\n",
    "        \n",
    "total['total'] = {'value' : sumDos * 100 / sumPop}\n",
    "\n",
    "print(data)\n",
    "print(total)\n"
   ]
  },
  {
   "cell_type": "code",
   "execution_count": 373,
   "metadata": {},
   "outputs": [],
   "source": [
    "empty = '░'\n",
    "fill = '█'\n",
    "customrange = 20"
   ]
  },
  {
   "cell_type": "code",
   "execution_count": 378,
   "metadata": {},
   "outputs": [
    {
     "name": "stdout",
     "output_type": "stream",
     "text": [
      "███░░░░░░░░░░░░░░░░░ 5.9%\n"
     ]
    }
   ],
   "source": [
    "value = round(total['total']['value'],1)\n",
    "\n",
    "normalised = round(customrange/ value ) \n",
    "diff = round((customrange - normalised))\n",
    "\n",
    "print(fill * normalised + empty * diff + ' ' +  str(value) + '%')"
   ]
  },
  {
   "cell_type": "code",
   "execution_count": 368,
   "metadata": {},
   "outputs": [
    {
     "name": "stdout",
     "output_type": "stream",
     "text": [
      "██░░░░░░░░ Veneto 5.8%\n",
      "██░░░░░░░░ Valle d'Aosta / Vallée d'Aoste 6.18%\n",
      "██░░░░░░░░ Umbria 5.37%\n",
      "██░░░░░░░░ Provincia Autonoma Trento 6.4%\n",
      "█░░░░░░░░░ Provincia Autonoma Bolzano / Bozen 7.5%\n",
      "██░░░░░░░░ Toscana 5.91%\n",
      "██░░░░░░░░ Sicilia 5.2%\n",
      "██░░░░░░░░ Sardegna 4.47%\n",
      "██░░░░░░░░ Puglia 5.33%\n",
      "█░░░░░░░░░ Piemonte 7.56%\n",
      "█░░░░░░░░░ Molise 7.49%\n",
      "█░░░░░░░░░ Marche 6.99%\n",
      "██░░░░░░░░ Lombardia 5.77%\n",
      "█░░░░░░░░░ Liguria 7.07%\n",
      "██░░░░░░░░ Lazio 5.77%\n",
      "█░░░░░░░░░ Friuli-Venezia Giulia 6.88%\n",
      "█░░░░░░░░░ Emilia-Romagna 6.91%\n",
      "██░░░░░░░░ Campania 4.57%\n",
      "██░░░░░░░░ Calabria 5.34%\n",
      "██░░░░░░░░ Basilicata 6.48%\n",
      "██░░░░░░░░ Abruzzo 5.89%\n"
     ]
    }
   ],
   "source": [
    "for region in data.keys():\n",
    "    value = float(data[region]['value'])\n",
    "    \n",
    "    normalised = round(customrange / value ) \n",
    "    diff = round((customrange - normalised))\n",
    "    \n",
    "    print(fill * normalised + empty * diff + ' ' + region + ' ' + str(value) + '%')"
   ]
  }
 ],
 "metadata": {
  "kernelspec": {
   "display_name": "Python 3",
   "language": "python",
   "name": "python3"
  },
  "language_info": {
   "codemirror_mode": {
    "name": "ipython",
    "version": 3
   },
   "file_extension": ".py",
   "mimetype": "text/x-python",
   "name": "python",
   "nbconvert_exporter": "python",
   "pygments_lexer": "ipython3",
   "version": "3.8.5"
  }
 },
 "nbformat": 4,
 "nbformat_minor": 4
}
